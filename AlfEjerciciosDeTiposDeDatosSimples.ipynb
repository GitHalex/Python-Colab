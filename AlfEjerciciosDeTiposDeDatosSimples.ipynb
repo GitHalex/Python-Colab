{
  "nbformat": 4,
  "nbformat_minor": 0,
  "metadata": {
    "colab": {
      "provenance": [],
      "collapsed_sections": [],
      "authorship_tag": "ABX9TyMbb2JB7Z1X6jZPckEU1a1E",
      "include_colab_link": true
    },
    "kernelspec": {
      "name": "python3",
      "display_name": "Python 3"
    },
    "language_info": {
      "name": "python"
    }
  },
  "cells": [
    {
      "cell_type": "markdown",
      "metadata": {
        "id": "view-in-github",
        "colab_type": "text"
      },
      "source": [
        "<a href=\"https://colab.research.google.com/github/GitHalex/Python-Colab/blob/main/AlfEjerciciosDeTiposDeDatosSimples.ipynb\" target=\"_parent\"><img src=\"https://colab.research.google.com/assets/colab-badge.svg\" alt=\"Open In Colab\"/></a>"
      ]
    },
    {
      "cell_type": "markdown",
      "source": [
        "EJERCICIO 1\n",
        "Escribir un programa que muestre por pantalla la cadena ¡Hola Mundo!"
      ],
      "metadata": {
        "id": "kl8U5LQEl8vN"
      }
    },
    {
      "cell_type": "code",
      "source": [
        "print('¡Hola Mundo!')"
      ],
      "metadata": {
        "colab": {
          "base_uri": "https://localhost:8080/"
        },
        "id": "f2G3Vuv_mE_y",
        "outputId": "c95b55dc-78a2-4136-84ce-f5055a64e818"
      },
      "execution_count": null,
      "outputs": [
        {
          "output_type": "stream",
          "name": "stdout",
          "text": [
            "¡Hola Mundo!\n"
          ]
        }
      ]
    },
    {
      "cell_type": "markdown",
      "source": [
        "Ejercicio 2\n",
        "Escribir un programa que almacene la cadena ¡Hola Mundo! en una variable y luego muestre por pantalla el contenido de la variable"
      ],
      "metadata": {
        "id": "wzyn80-amOES"
      }
    },
    {
      "cell_type": "code",
      "source": [
        "cadena = '¡Hola Mundo!'\n",
        "print(cadena)"
      ],
      "metadata": {
        "colab": {
          "base_uri": "https://localhost:8080/"
        },
        "id": "24Hs577vmSI6",
        "outputId": "8bf912bb-bb9b-41fc-f3d6-3bfa994ef9a0"
      },
      "execution_count": null,
      "outputs": [
        {
          "output_type": "stream",
          "name": "stdout",
          "text": [
            "¡Hola Mundo!\n"
          ]
        }
      ]
    },
    {
      "cell_type": "markdown",
      "source": [
        "Ejercicio 3\n",
        "Escribir un programa que pregunte el nombre del usuario en la consola y después de que el usuario lo introduzca muestre por pantalla la cadena ¡Hola <nombre>!, donde <nombre> es el nombre que el usuario haya introducido"
      ],
      "metadata": {
        "id": "xoolJMltmToN"
      }
    },
    {
      "cell_type": "code",
      "source": [
        "nombre = input(\"nombre de usuario: \")\n",
        "print(f'Hola {nombre}')"
      ],
      "metadata": {
        "colab": {
          "base_uri": "https://localhost:8080/"
        },
        "id": "Bwzp_XZCmZLF",
        "outputId": "038c05bf-1f51-47b5-9352-2710ab4fee88"
      },
      "execution_count": null,
      "outputs": [
        {
          "output_type": "stream",
          "name": "stdout",
          "text": [
            "nombre de usuario: Halex\n",
            "Hola Halex\n"
          ]
        }
      ]
    },
    {
      "cell_type": "markdown",
      "source": [
        "Ejercicio 4\n",
        "Escribir un programa que muestre por pantalla el resultado de la siguiente operación aritmética (3+2/2*5)^2"
      ],
      "metadata": {
        "id": "Z3E6yzt1md2q"
      }
    },
    {
      "cell_type": "code",
      "source": [
        "resultado = ((3+2)/(2*5))**2\n",
        "print(resultado)"
      ],
      "metadata": {
        "colab": {
          "base_uri": "https://localhost:8080/"
        },
        "id": "YLHwnBqjmmng",
        "outputId": "059c507c-3805-468b-fbe0-ca3768a0c8a3"
      },
      "execution_count": null,
      "outputs": [
        {
          "output_type": "stream",
          "name": "stdout",
          "text": [
            "0.25\n"
          ]
        }
      ]
    },
    {
      "cell_type": "markdown",
      "source": [
        "Ejercicio 5\n",
        "Escribir un programa que pregunte al usuario por el número de horas trabajadas y el coste por hora. Después debe mostrar por pantalla la paga que le corresponde"
      ],
      "metadata": {
        "id": "JH1-X656mndo"
      }
    },
    {
      "cell_type": "code",
      "source": [
        "horas_trabajadas = float(input('numero de horas de trabajo: '))\n",
        "costo_por_hora = float(input('costo por hora de trabajo'))\n",
        "pago = horas_trabajadas*costo_por_hora\n",
        "print(f'tu paga es {pago} pelucholares')"
      ],
      "metadata": {
        "colab": {
          "base_uri": "https://localhost:8080/"
        },
        "id": "pmhBav9nmtnG",
        "outputId": "a220c630-8743-432e-bdb1-96eee2d44a30"
      },
      "execution_count": null,
      "outputs": [
        {
          "output_type": "stream",
          "name": "stdout",
          "text": [
            "numero de horas de trabajo: 9\n",
            "costo por hora de trabajo8\n",
            "tu paga es 72.0 pelucholares\n"
          ]
        }
      ]
    },
    {
      "cell_type": "markdown",
      "source": [
        "Escribir un programa que lea un entero positivo, n , introducido por el usuario y después muestre en pantalla la suma de todos los enteros desde 1 hasta n . La suma de los n primeros enteros positivos puede ser calcula\n",
        "da de la siguiente forma: suma=n(n+1)/2"
      ],
      "metadata": {
        "id": "6D0y4x-knltQ"
      }
    },
    {
      "cell_type": "code",
      "source": [
        "n = int(input('ingresa n: '))\n",
        "suma = (n*(n+1))/2\n",
        "print(f'La suma de los primeros numeros enteros desde 1 hasta {n} es : {suma}')"
      ],
      "metadata": {
        "colab": {
          "base_uri": "https://localhost:8080/"
        },
        "id": "1n-5-kIun7Il",
        "outputId": "622f7260-1a5e-4794-c6eb-5bb465787f9e"
      },
      "execution_count": null,
      "outputs": [
        {
          "output_type": "stream",
          "name": "stdout",
          "text": [
            "ingresa n: 5\n",
            "La suma de los primeros numeros enteros desde 1 hasta 5 es : 15.0\n"
          ]
        }
      ]
    },
    {
      "cell_type": "markdown",
      "source": [
        "Ejercicio 7\n",
        "Escribir un programa que pida al usuario su peso (en kg) y estatura (en metros), calcule el índice de masa corporal y lo almacene en una variable, y muestre por pantalla la frase Tu índice de masa corporal es <imc> donde <imc> es el índice de masa corporal calculado redondeado con dos decimales"
      ],
      "metadata": {
        "id": "Maed3O87n776"
      }
    },
    {
      "cell_type": "code",
      "source": [
        "peso = float(input('ingresa tu peso: '))\n",
        "estatura = float(input('ingrese tu estatura en metros : '))\n",
        "imc = round(peso/(estatura**2), 2)\n",
        "print(f'tu masa corporal es {imc}')"
      ],
      "metadata": {
        "colab": {
          "base_uri": "https://localhost:8080/"
        },
        "id": "tBQ_iq0VoIq8",
        "outputId": "a86ca343-289f-4f64-da91-75ed462a9e7f"
      },
      "execution_count": null,
      "outputs": [
        {
          "output_type": "stream",
          "name": "stdout",
          "text": [
            "ingresa tu peso: 84\n",
            "ingrese tu estatura en metros : 1.6\n",
            "tu masa corporal es 32.81\n"
          ]
        }
      ]
    },
    {
      "cell_type": "markdown",
      "source": [
        "Ejercicio 8\n",
        "Escribir un programa que pida al usuario dos números enteros y muestre por pantalla la <n> entre <m> da un cociente <c> y un resto <r> donde <n> y <m> son los números introducidos por el usuario, y <c> y <r> son el cociente y el resto de la división entera respectivamente"
      ],
      "metadata": {
        "id": "EaSArJrSoJYY"
      }
    },
    {
      "cell_type": "code",
      "source": [
        "numerador = int(input('numerador: '))\n",
        "denominador = int(input('denominador'))\n",
        "cociente = numerador//denominador\n",
        "residuo = numerador%denominador\n",
        "print(f'el cociente es {cociente} \\t el residuo es: {residuo}')"
      ],
      "metadata": {
        "colab": {
          "base_uri": "https://localhost:8080/"
        },
        "id": "PcyAsP5foPri",
        "outputId": "28320125-5404-436e-d793-cf58823ff506"
      },
      "execution_count": null,
      "outputs": [
        {
          "output_type": "stream",
          "name": "stdout",
          "text": [
            "numerador: 27\n",
            "denominador4\n",
            "el cociente es 6 \t el residuo es: 3\n"
          ]
        }
      ]
    },
    {
      "cell_type": "markdown",
      "source": [
        "Ejercicio 9\n",
        "Escribir un programa que pregunte al usuario una cantidad a invertir, el interés anual y el número de años, y muestre por pantalla el capital obtenido en la inversión."
      ],
      "metadata": {
        "id": "TYZmi1xaoWdr"
      }
    },
    {
      "cell_type": "code",
      "source": [
        "cantidad = float(input('¿Cantidad a invertir?: '))\n",
        "interes = float(input('¿Interes porcetual anual'))\n",
        "años = int(input('Años?: '))\n",
        "capital_obtenido = round(cantidad*(interes/100 + 1)**años, 2)\n",
        "print(f'Capital Obtenido: {capital_obtenido}')"
      ],
      "metadata": {
        "colab": {
          "base_uri": "https://localhost:8080/"
        },
        "id": "u5YNm0nZob-9",
        "outputId": "83568f1f-926d-4dea-9a8f-2d7cc50a0eff"
      },
      "execution_count": null,
      "outputs": [
        {
          "output_type": "stream",
          "name": "stdout",
          "text": [
            "¿Cantidad a invertir?: 1000\n",
            "¿Interes porcetual anual10\n",
            "Años?: 5\n",
            "Capital Obtenido: 1610.51\n"
          ]
        }
      ]
    },
    {
      "cell_type": "markdown",
      "source": [
        "Ejercicio 10\n",
        "Una juguetería tiene mucho éxito en dos de sus productos: payasos y muñecas. Suele hacer venta por correo y la empresa de logística les cobra por peso de cada paquete así que deben calcular el peso de los payasos y muñecas que saldrán en cada paquete a demanda. Cada payaso pesa 112 g y cada muñeca 75 g. Escribir un programa que lea el número de payasos y muñecas vendidos en el último pedido y calcule el peso total del paquete que será enviado."
      ],
      "metadata": {
        "id": "xVzRQEtUocbX"
      }
    },
    {
      "cell_type": "code",
      "source": [
        "numero_payasos = int(input('ingresa el numero de payasos vendidos'))\n",
        "numero_munecas = int(input('ingresa el numero de munecas vendidos'))\n",
        "peso_payaso = 112\n",
        "peso_muneca = 75\n",
        "peso_total = numero_payasos*peso_payaso + numero_munecas*peso_muneca\n",
        "print(f'peso total del paquete enviado {peso_total}')\n"
      ],
      "metadata": {
        "colab": {
          "base_uri": "https://localhost:8080/"
        },
        "id": "6FeQZ_9lohCg",
        "outputId": "2a3a3cf6-55e4-4f78-e569-98d909559791"
      },
      "execution_count": null,
      "outputs": [
        {
          "output_type": "stream",
          "name": "stdout",
          "text": [
            "ingresa el numero de payasos vendidos4\n",
            "ingresa el numero de munecas vendidos4\n",
            "peso total del paquete enviado 748\n"
          ]
        }
      ]
    },
    {
      "cell_type": "markdown",
      "source": [
        "Ejercicio 11\n",
        "Imagina que acabas de abrir una nueva cuenta de ahorros que te ofrece el 4% de interés al año. Estos ahorros debido a intereses, que no se cobran hasta finales de año, se te añaden al balance final de tu cuenta de ahorros. Escribir un programa que comience leyendo la cantidad de dinero depositada en la cuenta de ahorros, introducida por el usuario. Después el programa debe calcular y mostrar por pantalla la cantidad de ahorros tras el primer, segundo y tercer años. Redondear cada cantidad a dos decimales"
      ],
      "metadata": {
        "id": "jajUxlBVohZP"
      }
    },
    {
      "cell_type": "code",
      "source": [
        "dinero_depositado = int(input('Cantidad depositada: '))\n",
        "primer_anio = (4/100 + 1) * dinero_depositado\n",
        "segundo_anio = primer_anio * (4/100 + 1)\n",
        "tercer_anio = segundo_anio * (4/100 + 1)\n",
        "print(f'{primer_anio} + {segundo_anio} + {tercer_anio} = {primer_anio+segundo_anio+tercer_anio}')"
      ],
      "metadata": {
        "colab": {
          "base_uri": "https://localhost:8080/"
        },
        "id": "NMib4AfKolHl",
        "outputId": "91d6074f-f0ad-49fd-bb9e-1623c57e4ef7"
      },
      "execution_count": null,
      "outputs": [
        {
          "output_type": "stream",
          "name": "stdout",
          "text": [
            "Cantidad depositada: 10\n",
            "10.4 + 10.816 + 11.248640000000002 = 32.46464\n"
          ]
        }
      ]
    },
    {
      "cell_type": "markdown",
      "source": [
        "Ejercicio 12\n",
        "Una panadería vende barras de pan a 3.49€ cada una. El pan que no es el día tiene un descuento del 60%. Escribir un programa que comience leyendo el número de barras vendidas que no son del día. Después el programa debe mostrar el precio habitual de una barra de pan, el descuento que se le hace por no ser fresca y el coste final total"
      ],
      "metadata": {
        "id": "l2FWK_MMoljB"
      }
    },
    {
      "cell_type": "code",
      "source": [
        "barras_vendidas = int(input('barras vendidas: '))\n",
        "precio = 3.49\n",
        "descuento = 60/100\n",
        "coste_total = precio*barras_vendidas*(1-descuento)\n",
        "print(f'Coste de las barras fresca es {precio} $')\n",
        "print(f'el descuento sobre barra no fresca es {descuento*100}%')\n",
        "print(f'El costo final a pagar es {round(coste_total, 2)}')"
      ],
      "metadata": {
        "id": "D6T58t7gooTb",
        "colab": {
          "base_uri": "https://localhost:8080/"
        },
        "outputId": "ced6ca1d-1dbe-4e72-b85e-7fb7e4124664"
      },
      "execution_count": 12,
      "outputs": [
        {
          "output_type": "stream",
          "name": "stdout",
          "text": [
            "barras vendidas: 10\n",
            "Coste de las barras fresca es 3.49 $\n",
            "el descuento sobre barra no fresca es 60.0%\n",
            "El costo final a pagar es 13.96\n"
          ]
        }
      ]
    }
  ]
}